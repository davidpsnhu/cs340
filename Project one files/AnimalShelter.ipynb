{
 "cells": [
  {
   "cell_type": "code",
   "execution_count": 1,
   "metadata": {},
   "outputs": [],
   "source": [
    "from pymongo import MongoClient\n",
    "from bson.objectid import ObjectId\n",
    "class AnimalShelter(object):\n",
    "    \"\"\" CRUD operations for Animal collection in MongoDB \"\"\"\n",
    "\n",
    "    def __init__(self, username=None, password=None):\n",
    "        # Initializing the MongoClient. This helps to \n",
    "        # access the MongoDB databases and collections. \n",
    "        if username and password:\n",
    "            self.client = MongoClient('mongodb://%s:%s@localhost:27017' % (username, password))\n",
    "        else:\n",
    "            self.client = MongoClient('mongodb://localhost:27017')\n",
    "        self.database = self.client['ModuleFiveAssignment']\n",
    "\n",
    "# Complete this create method to implement the C in CRUD.\n",
    "    def create(self, data):\n",
    "        if data is not None:\n",
    "            insert = self.database.animals.insert(data)  # data should be dictionary    \n",
    "        else:\n",
    "            raise Exception(\"Nothing to save, because data parameter is empty\")\n",
    "\n",
    "\n",
    "    # Create method to implement the R in CRUD.\n",
    "    def read(self,searchData):\n",
    "\n",
    "        # criteria is not None then this find will return all rows which matches the criteria\n",
    "        if searchData:\n",
    "         # {'_id':False} just omits the unique ID of each row        \n",
    "            \n",
    "            data = self.database.animals.find(searchData, {\"_id\":False})\n",
    "        else:\n",
    "        #if there is no search criteria then all the rows will be return  \n",
    "            data = self.database.animals.find({} , {\"_id\":False})\n",
    "\n",
    "        return data\n",
    "    \n",
    "    def update(self,searchData, updateData):\n",
    "        if searchData is not None:\n",
    "            result = self.database.animals_many(searchData, {\"$set\": updateData})\n",
    "        else:\n",
    "            return \"{}\"\n",
    "        return result.raw_result\n",
    "    def delete(self, deleteData):\n",
    "        if deleteData is not None:\n",
    "            result = self.database.animals.delete_many(deleteData)\n",
    "        else:\n",
    "            return \"{}\"\n",
    "        return result.raw_result"
   ]
  },
  {
   "cell_type": "code",
   "execution_count": null,
   "metadata": {},
   "outputs": [],
   "source": []
  }
 ],
 "metadata": {
  "kernelspec": {
   "display_name": "Python 3",
   "language": "python",
   "name": "python3"
  },
  "language_info": {
   "codemirror_mode": {
    "name": "ipython",
    "version": 3
   },
   "file_extension": ".py",
   "mimetype": "text/x-python",
   "name": "python",
   "nbconvert_exporter": "python",
   "pygments_lexer": "ipython3",
   "version": "3.6.9"
  }
 },
 "nbformat": 4,
 "nbformat_minor": 2
}
